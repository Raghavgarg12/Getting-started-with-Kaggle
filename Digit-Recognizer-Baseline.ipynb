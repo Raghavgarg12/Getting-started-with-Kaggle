{
 "cells": [
  {
   "cell_type": "markdown",
   "id": "6bd5d2fe",
   "metadata": {
    "_cell_guid": "00b63778-674d-0a2d-e5b0-8956c5ce1770",
    "papermill": {
     "duration": 0.007711,
     "end_time": "2023-06-14T18:27:13.378517",
     "exception": false,
     "start_time": "2023-06-14T18:27:13.370806",
     "status": "completed"
    },
    "tags": []
   },
   "source": [
    "# Introduction\n",
    "Let me start by saying, this is not the best way to classify digits! This notebook is rather meant to be for someone who might not know where to start. As an ml beginner myself, I find it helpful to play with these sorts of commented kernels. Any suggestions for improvement or comments on poor coding practices are appreciated!"
   ]
  },
  {
   "cell_type": "markdown",
   "id": "61835557",
   "metadata": {
    "papermill": {
     "duration": 0.006463,
     "end_time": "2023-06-14T18:27:13.392145",
     "exception": false,
     "start_time": "2023-06-14T18:27:13.385682",
     "status": "completed"
    },
    "tags": []
   },
   "source": [
    "## 1.1 Importing libraries"
   ]
  },
  {
   "cell_type": "code",
   "execution_count": 1,
   "id": "30c90851",
   "metadata": {
    "_cell_guid": "d0abbfc5-e04e-98d3-8c5c-37d114daa804",
    "execution": {
     "iopub.execute_input": "2023-06-14T18:27:13.409151Z",
     "iopub.status.busy": "2023-06-14T18:27:13.408646Z",
     "iopub.status.idle": "2023-06-14T18:27:15.137346Z",
     "shell.execute_reply": "2023-06-14T18:27:15.135635Z"
    },
    "papermill": {
     "duration": 1.741296,
     "end_time": "2023-06-14T18:27:15.140780",
     "exception": false,
     "start_time": "2023-06-14T18:27:13.399484",
     "status": "completed"
    },
    "tags": []
   },
   "outputs": [],
   "source": [
    "import pandas as pd\n",
    "import numpy as np\n",
    "import matplotlib.pyplot as plt, matplotlib.image as mpimg\n",
    "from sklearn.model_selection import train_test_split\n",
    "from sklearn import svm\n",
    "%matplotlib inline"
   ]
  },
  {
   "cell_type": "markdown",
   "id": "b42ff51c",
   "metadata": {
    "_cell_guid": "11f567ca-77d0-2c41-bbc9-a60396caacea",
    "papermill": {
     "duration": 0.006683,
     "end_time": "2023-06-14T18:27:15.154472",
     "exception": false,
     "start_time": "2023-06-14T18:27:15.147789",
     "status": "completed"
    },
    "tags": []
   },
   "source": [
    "## 1.2 Loading the data\n",
    "- We use panda's [read_csv][1]  to read train.csv into a [dataframe][2].\n",
    "- Then we separate our images and labels for supervised learning. \n",
    "- We also do a [train_test_split][3] to break our data into two sets, one for training and one for testing. This let's us measure how well our model was trained by later inputting some known test data.\n",
    "\n",
    " For the sake of time, we're only using 5000 images. You should increase or decrease this number to see how it affects model training.\n",
    "\n",
    "\n",
    "  [1]: http://pandas.pydata.org/pandas-docs/stable/generated/pandas.read_csv.html\n",
    "  [2]: http://pandas.pydata.org/pandas-docs/stable/generated/pandas.DataFrame.html#pandas.DataFrame\n",
    "  [3]: http://scikit-learn.org/stable/modules/generated/sklearn.model_selection.train_test_split.html"
   ]
  },
  {
   "cell_type": "code",
   "execution_count": 2,
   "id": "2c9a4864",
   "metadata": {
    "_cell_guid": "e8c0e206-f504-253f-8ac6-2c50eff06b58",
    "execution": {
     "iopub.execute_input": "2023-06-14T18:27:15.170292Z",
     "iopub.status.busy": "2023-06-14T18:27:15.169813Z",
     "iopub.status.idle": "2023-06-14T18:27:20.004960Z",
     "shell.execute_reply": "2023-06-14T18:27:20.002708Z"
    },
    "papermill": {
     "duration": 4.848043,
     "end_time": "2023-06-14T18:27:20.009403",
     "exception": false,
     "start_time": "2023-06-14T18:27:15.161360",
     "status": "completed"
    },
    "tags": []
   },
   "outputs": [],
   "source": [
    "labeled_images = pd.read_csv('/kaggle/input/digit-recognizer/train.csv')\n",
    "images = labeled_images.iloc[0:5000,1:]\n",
    "labels = labeled_images.iloc[0:5000,:1]\n",
    "train_images, test_images,train_labels, test_labels = train_test_split(images, labels, train_size=0.8, random_state=0)"
   ]
  },
  {
   "cell_type": "markdown",
   "id": "69166f3a",
   "metadata": {
    "_cell_guid": "caa9e676-3656-5509-0aa4-a503437f727f",
    "papermill": {
     "duration": 0.008905,
     "end_time": "2023-06-14T18:27:20.025775",
     "exception": false,
     "start_time": "2023-06-14T18:27:20.016870",
     "status": "completed"
    },
    "tags": []
   },
   "source": [
    "## 1.3 Viewing an Image\n",
    "- Since the image is currently one-dimension, we load it into a [numpy array][1] and [reshape][2] it so that it is two-dimensional (28x28 pixels)\n",
    "- Then, we plot the image and label with matplotlib\n",
    "\n",
    "### You can change the value of variable <i>i</i> to check out other images and labels.\n",
    "\n",
    "\n",
    "  [1]: https://docs.scipy.org/doc/numpy/reference/generated/numpy.array.html\n",
    "  [2]: https://docs.scipy.org/doc/numpy/reference/generated/numpy.reshape.html"
   ]
  },
  {
   "cell_type": "code",
   "execution_count": 3,
   "id": "ab09c706",
   "metadata": {
    "_cell_guid": "dc43b65b-d3d9-8208-e7a2-88c2535b506f",
    "execution": {
     "iopub.execute_input": "2023-06-14T18:27:20.041648Z",
     "iopub.status.busy": "2023-06-14T18:27:20.041233Z",
     "iopub.status.idle": "2023-06-14T18:27:20.414230Z",
     "shell.execute_reply": "2023-06-14T18:27:20.412705Z"
    },
    "papermill": {
     "duration": 0.384945,
     "end_time": "2023-06-14T18:27:20.417589",
     "exception": false,
     "start_time": "2023-06-14T18:27:20.032644",
     "status": "completed"
    },
    "tags": []
   },
   "outputs": [
    {
     "data": {
      "text/plain": [
       "Text(0.5, 1.0, '6')"
      ]
     },
     "execution_count": 3,
     "metadata": {},
     "output_type": "execute_result"
    },
    {
     "data": {
      "image/png": "[encoded data removed]",
      "text/plain": [
       "<Figure size 640x480 with 1 Axes>"
      ]
     },
     "metadata": {},
     "output_type": "display_data"
    }
   ],
   "source": [
    "i=1\n",
    "img=np.array(train_images.iloc[i])\n",
    "img=img.reshape((28,28))\n",
    "plt.imshow(img,cmap='gray')\n",
    "plt.title(train_labels.iloc[i,0])"
   ]
  },
  {
   "cell_type": "markdown",
   "id": "1f64f034",
   "metadata": {
    "_cell_guid": "42a5a5bd-83be-7116-7cd5-20cbc8336417",
    "papermill": {
     "duration": 0.006887,
     "end_time": "2023-06-14T18:27:20.431921",
     "exception": false,
     "start_time": "2023-06-14T18:27:20.425034",
     "status": "completed"
    },
    "tags": []
   },
   "source": [
    "## 1.4 Examining the Pixel Values\n",
    "### Note that these images aren't actually black and white (0,1). They are gray-scale (0-255). \n",
    "- A [histogram][1] of this image's pixel values shows the range.\n",
    "\n",
    "\n",
    "  [1]: http://matplotlib.org/api/pyplot_api.html#matplotlib.pyplot.hist"
   ]
  },
  {
   "cell_type": "code",
   "execution_count": 4,
   "id": "5d8fc385",
   "metadata": {
    "_cell_guid": "b6143ae2-eb4e-a4af-aad3-37fa85b657b7",
    "execution": {
     "iopub.execute_input": "2023-06-14T18:27:20.448671Z",
     "iopub.status.busy": "2023-06-14T18:27:20.448194Z",
     "iopub.status.idle": "2023-06-14T18:27:20.768941Z",
     "shell.execute_reply": "2023-06-14T18:27:20.767388Z"
    },
    "papermill": {
     "duration": 0.333338,
     "end_time": "2023-06-14T18:27:20.772531",
     "exception": false,
     "start_time": "2023-06-14T18:27:20.439193",
     "status": "completed"
    },
    "tags": []
   },
   "outputs": [
    {
     "data": {
      "text/plain": [
       "(array([682.,   9.,  10.,   7.,  10.,  18.,   7.,  17.,   7.,  17.]),\n",
       " array([  0. ,  25.5,  51. ,  76.5, 102. , 127.5, 153. , 178.5, 204. ,\n",
       "        229.5, 255. ]),\n",
       " <BarContainer object of 10 artists>)"
      ]
     },
     "execution_count": 4,
     "metadata": {},
     "output_type": "execute_result"
    },
    {
     "data": {
      "image/png": "[encoded data removed]",
      "text/plain": [
       "<Figure size 640x480 with 1 Axes>"
      ]
     },
     "metadata": {},
     "output_type": "display_data"
    }
   ],
   "source": [
    "plt.hist(train_images.iloc[i])"
   ]
  },
  {
   "cell_type": "markdown",
   "id": "dae5b875",
   "metadata": {
    "_cell_guid": "b7f8578b-9985-4ccc-eab5-82465d7cad8b",
    "papermill": {
     "duration": 0.007558,
     "end_time": "2023-06-14T18:27:20.788422",
     "exception": false,
     "start_time": "2023-06-14T18:27:20.780864",
     "status": "completed"
    },
    "tags": []
   },
   "source": [
    "# 2.0 Training our model\n",
    "- First, we use the [sklearn.svm][1] module to create a [vector classifier][2]. \n",
    "- Next, we pass our training images and labels to the classifier's [fit][3] method, which trains our model. \n",
    "- Finally, the test images and labels are passed to the [score][4] method to see how well we trained our model. Fit will return a float between 0-1 indicating our accuracy on the test data set\n",
    "\n",
    "### Try playing with the parameters of svm.SVC to see how the results change. \n",
    "\n",
    "\n",
    "  [1]: http://scikit-learn.org/stable/modules/svm.html\n",
    "  [2]: http://scikit-learn.org/stable/modules/generated/sklearn.svm.SVC.html\n",
    "  [3]: http://scikit-learn.org/stable/modules/generated/sklearn.svm.SVC.html#sklearn.svm.SVC.fit\n",
    "  [4]: http://scikit-learn.org/stable/modules/generated/sklearn.svm.SVC.html#sklearn.svm.SVC.score\n",
    "  [5]: http://scikit-learn.org/stable/modules/generated/sklearn.svm.SVC.html#sklearn.svm.SVC.score"
   ]
  },
  {
   "cell_type": "code",
   "execution_count": 5,
   "id": "1326de7e",
   "metadata": {
    "_cell_guid": "e35c02d7-4510-3202-a7b4-fb3accde0c5a",
    "execution": {
     "iopub.execute_input": "2023-06-14T18:27:20.806372Z",
     "iopub.status.busy": "2023-06-14T18:27:20.805905Z",
     "iopub.status.idle": "2023-06-14T18:27:24.648614Z",
     "shell.execute_reply": "2023-06-14T18:27:24.647086Z"
    },
    "papermill": {
     "duration": 3.855425,
     "end_time": "2023-06-14T18:27:24.651683",
     "exception": false,
     "start_time": "2023-06-14T18:27:20.796258",
     "status": "completed"
    },
    "tags": []
   },
   "outputs": [
    {
     "data": {
      "text/plain": [
       "0.942"
      ]
     },
     "execution_count": 5,
     "metadata": {},
     "output_type": "execute_result"
    }
   ],
   "source": [
    "clf = svm.SVC()\n",
    "clf.fit(train_images, train_labels.values.ravel())\n",
    "clf.score(test_images,test_labels)"
   ]
  },
  {
   "cell_type": "markdown",
   "id": "11f91d7f",
   "metadata": {
    "_cell_guid": "61729c3a-fc18-d204-1e72-a453af1ff0a3",
    "papermill": {
     "duration": 0.007572,
     "end_time": "2023-06-14T18:27:24.667545",
     "exception": false,
     "start_time": "2023-06-14T18:27:24.659973",
     "status": "completed"
    },
    "tags": []
   },
   "source": [
    "## 2.1 How did our model do?\n",
    "You should have gotten around 0.10, or 10% accuracy. This is terrible. 10% accuracy is what get if you randomly guess a number. There are many ways to improve this, including not using a vector classifier, but here's a simple one to start. Let's just simplify our images by making them true black and white.\n",
    "\n",
    "- To make this easy, any pixel with a value simply becomes 1 and everything else remains 0.\n",
    "- We'll plot the same image again to see how it looks now that it's black and white. Look at the histogram now."
   ]
  },
  {
   "cell_type": "code",
   "execution_count": 6,
   "id": "40eda7e9",
   "metadata": {
    "_cell_guid": "b5f3a212-b832-55af-d228-9b1931dcbc32",
    "execution": {
     "iopub.execute_input": "2023-06-14T18:27:24.685459Z",
     "iopub.status.busy": "2023-06-14T18:27:24.684981Z",
     "iopub.status.idle": "2023-06-14T18:27:25.110313Z",
     "shell.execute_reply": "2023-06-14T18:27:25.109261Z"
    },
    "papermill": {
     "duration": 0.437514,
     "end_time": "2023-06-14T18:27:25.113145",
     "exception": false,
     "start_time": "2023-06-14T18:27:24.675631",
     "status": "completed"
    },
    "tags": []
   },
   "outputs": [
    {
     "data": {
      "text/plain": [
       "Text(0.5, 1.0, 'label    6\\nName: 3275, dtype: int64')"
      ]
     },
     "execution_count": 6,
     "metadata": {},
     "output_type": "execute_result"
    },
    {
     "data": {
      "image/png": "[encoded data removed]",
      "text/plain": [
       "<Figure size 640x480 with 1 Axes>"
      ]
     },
     "metadata": {},
     "output_type": "display_data"
    }
   ],
   "source": [
    "test_images[test_images>0]=1\n",
    "train_images[train_images>0]=1\n",
    "\n",
    "img=np.array(train_images.iloc[i]).reshape((28,28))\n",
    "plt.imshow(img,cmap='binary')\n",
    "plt.title(str(train_labels.iloc[i]))"
   ]
  },
  {
   "cell_type": "code",
   "execution_count": 7,
   "id": "1b0955bd",
   "metadata": {
    "_cell_guid": "edbe1d68-3224-1bf4-b571-a3bd845c3de5",
    "execution": {
     "iopub.execute_input": "2023-06-14T18:27:25.134496Z",
     "iopub.status.busy": "2023-06-14T18:27:25.134096Z",
     "iopub.status.idle": "2023-06-14T18:27:25.444556Z",
     "shell.execute_reply": "2023-06-14T18:27:25.443253Z"
    },
    "papermill": {
     "duration": 0.324329,
     "end_time": "2023-06-14T18:27:25.447372",
     "exception": false,
     "start_time": "2023-06-14T18:27:25.123043",
     "status": "completed"
    },
    "tags": []
   },
   "outputs": [
    {
     "data": {
      "text/plain": [
       "(array([668.,   0.,   0.,   0.,   0.,   0.,   0.,   0.,   0., 116.]),\n",
       " array([0. , 0.1, 0.2, 0.3, 0.4, 0.5, 0.6, 0.7, 0.8, 0.9, 1. ]),\n",
       " <BarContainer object of 10 artists>)"
      ]
     },
     "execution_count": 7,
     "metadata": {},
     "output_type": "execute_result"
    },
    {
     "data": {
      "image/png": "[encoded data removed]",
      "text/plain": [
       "<Figure size 640x480 with 1 Axes>"
      ]
     },
     "metadata": {},
     "output_type": "display_data"
    }
   ],
   "source": [
    "plt.hist(train_images.iloc[i])"
   ]
  },
  {
   "cell_type": "markdown",
   "id": "1ccb31da",
   "metadata": {
    "_cell_guid": "785c75aa-06f7-fce3-b690-038356d4a51c",
    "papermill": {
     "duration": 0.008697,
     "end_time": "2023-06-14T18:27:25.464884",
     "exception": false,
     "start_time": "2023-06-14T18:27:25.456187",
     "status": "completed"
    },
    "tags": []
   },
   "source": [
    "## 2.2 Retraining our model\n",
    "We follow the same procedure as before, but now our training and test sets are black and white instead of gray-scale. Our score still isn't great, but it's a huge improvement."
   ]
  },
  {
   "cell_type": "code",
   "execution_count": 8,
   "id": "4c2236d9",
   "metadata": {
    "_cell_guid": "6f0355ef-d019-c814-11ff-795f81d041f1",
    "execution": {
     "iopub.execute_input": "2023-06-14T18:27:25.484640Z",
     "iopub.status.busy": "2023-06-14T18:27:25.484182Z",
     "iopub.status.idle": "2023-06-14T18:27:29.594719Z",
     "shell.execute_reply": "2023-06-14T18:27:29.593376Z"
    },
    "papermill": {
     "duration": 4.123723,
     "end_time": "2023-06-14T18:27:29.597521",
     "exception": false,
     "start_time": "2023-06-14T18:27:25.473798",
     "status": "completed"
    },
    "tags": []
   },
   "outputs": [
    {
     "data": {
      "text/plain": [
       "0.929"
      ]
     },
     "execution_count": 8,
     "metadata": {},
     "output_type": "execute_result"
    }
   ],
   "source": [
    "clf = svm.SVC()\n",
    "clf.fit(train_images, train_labels.values.ravel())\n",
    "clf.score(test_images,test_labels)"
   ]
  },
  {
   "cell_type": "markdown",
   "id": "0d76c39c",
   "metadata": {
    "papermill": {
     "duration": 0.008766,
     "end_time": "2023-06-14T18:27:29.616318",
     "exception": false,
     "start_time": "2023-06-14T18:27:29.607552",
     "status": "completed"
    },
    "tags": []
   },
   "source": [
    "# 3.0 Predicitions File"
   ]
  },
  {
   "cell_type": "markdown",
   "id": "020444b3",
   "metadata": {
    "papermill": {
     "duration": 0.009109,
     "end_time": "2023-06-14T18:27:29.634897",
     "exception": false,
     "start_time": "2023-06-14T18:27:29.625788",
     "status": "completed"
    },
    "tags": []
   },
   "source": [
    "### 3.1 Load the test file and make predictions"
   ]
  },
  {
   "cell_type": "code",
   "execution_count": 9,
   "id": "59775a19",
   "metadata": {
    "_cell_guid": "8fa0b0aa-1bf3-dcd3-6ef2-fae5ccda55b3",
    "execution": {
     "iopub.execute_input": "2023-06-14T18:27:29.654853Z",
     "iopub.status.busy": "2023-06-14T18:27:29.654444Z",
     "iopub.status.idle": "2023-06-14T18:27:41.123413Z",
     "shell.execute_reply": "2023-06-14T18:27:41.122038Z"
    },
    "papermill": {
     "duration": 11.482871,
     "end_time": "2023-06-14T18:27:41.126765",
     "exception": false,
     "start_time": "2023-06-14T18:27:29.643894",
     "status": "completed"
    },
    "tags": []
   },
   "outputs": [],
   "source": [
    "test_data=pd.read_csv('/kaggle/input/digit-recognizer/test.csv')\n",
    "test_data[test_data>0]=1\n",
    "results=clf.predict(test_data[0:5000])"
   ]
  },
  {
   "cell_type": "code",
   "execution_count": 10,
   "id": "0f946154",
   "metadata": {
    "_cell_guid": "aa6f3fd3-8ff6-80b4-68ae-261172ebe580",
    "execution": {
     "iopub.execute_input": "2023-06-14T18:27:41.148810Z",
     "iopub.status.busy": "2023-06-14T18:27:41.148421Z",
     "iopub.status.idle": "2023-06-14T18:27:41.156206Z",
     "shell.execute_reply": "2023-06-14T18:27:41.154630Z"
    },
    "papermill": {
     "duration": 0.022735,
     "end_time": "2023-06-14T18:27:41.159255",
     "exception": false,
     "start_time": "2023-06-14T18:27:41.136520",
     "status": "completed"
    },
    "tags": []
   },
   "outputs": [
    {
     "data": {
      "text/plain": [
       "array([2, 0, 9, ..., 1, 7, 3])"
      ]
     },
     "execution_count": 10,
     "metadata": {},
     "output_type": "execute_result"
    }
   ],
   "source": [
    "results"
   ]
  },
  {
   "cell_type": "code",
   "execution_count": 11,
   "id": "dc536bda",
   "metadata": {
    "_cell_guid": "28ec8d56-d3f6-573d-2230-bc5a410868c6",
    "execution": {
     "iopub.execute_input": "2023-06-14T18:27:41.180839Z",
     "iopub.status.busy": "2023-06-14T18:27:41.180394Z",
     "iopub.status.idle": "2023-06-14T18:27:41.206982Z",
     "shell.execute_reply": "2023-06-14T18:27:41.205612Z"
    },
    "papermill": {
     "duration": 0.041014,
     "end_time": "2023-06-14T18:27:41.210141",
     "exception": false,
     "start_time": "2023-06-14T18:27:41.169127",
     "status": "completed"
    },
    "tags": []
   },
   "outputs": [],
   "source": [
    "df = pd.DataFrame(results)\n",
    "df.index.name='ImageId'\n",
    "df.index+=1\n",
    "df.columns=['Label']\n",
    "df.to_csv('results.csv', header=True)"
   ]
  }
 ],
 "metadata": {
  "kernelspec": {
   "display_name": "Python 3",
   "language": "python",
   "name": "python3"
  },
  "language_info": {
   "codemirror_mode": {
    "name": "ipython",
    "version": 3
   },
   "file_extension": ".py",
   "mimetype": "text/x-python",
   "name": "python",
   "nbconvert_exporter": "python",
   "pygments_lexer": "ipython3",
   "version": "3.10.10"
  },
  "papermill": {
   "default_parameters": {},
   "duration": 41.781346,
   "end_time": "2023-06-14T18:27:42.245493",
   "environment_variables": {},
   "exception": null,
   "input_path": "__notebook__.ipynb",
   "output_path": "__notebook__.ipynb",
   "parameters": {},
   "start_time": "2023-06-14T18:27:00.464147",
   "version": "2.4.0"
  }
 },
 "nbformat": 4,
 "nbformat_minor": 5
}
